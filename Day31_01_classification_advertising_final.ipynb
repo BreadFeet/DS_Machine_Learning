{
 "cells": [
  {
   "cell_type": "markdown",
   "metadata": {},
   "source": [
    "# Classification (2)\n",
    "## Iris Data"
   ]
  },
  {
   "cell_type": "code",
   "execution_count": 5,
   "metadata": {},
   "outputs": [],
   "source": [
    "# sklearn.datasets module always brings data looking like dictionary.\n",
    "from sklearn import datasets"
   ]
  },
  {
   "cell_type": "code",
   "execution_count": 7,
   "metadata": {
    "collapsed": true
   },
   "outputs": [
    {
     "data": {
      "text/plain": [
       "(sklearn.utils.Bunch,\n",
       " {'data': array([[5.1, 3.5, 1.4, 0.2],\n",
       "         [4.9, 3. , 1.4, 0.2],\n",
       "         [4.7, 3.2, 1.3, 0.2],\n",
       "         [4.6, 3.1, 1.5, 0.2],\n",
       "         [5. , 3.6, 1.4, 0.2],\n",
       "         [5.4, 3.9, 1.7, 0.4],\n",
       "         [4.6, 3.4, 1.4, 0.3],\n",
       "         [5. , 3.4, 1.5, 0.2],\n",
       "         [4.4, 2.9, 1.4, 0.2],\n",
       "         [4.9, 3.1, 1.5, 0.1],\n",
       "         [5.4, 3.7, 1.5, 0.2],\n",
       "         [4.8, 3.4, 1.6, 0.2],\n",
       "         [4.8, 3. , 1.4, 0.1],\n",
       "         [4.3, 3. , 1.1, 0.1],\n",
       "         [5.8, 4. , 1.2, 0.2],\n",
       "         [5.7, 4.4, 1.5, 0.4],\n",
       "         [5.4, 3.9, 1.3, 0.4],\n",
       "         [5.1, 3.5, 1.4, 0.3],\n",
       "         [5.7, 3.8, 1.7, 0.3],\n",
       "         [5.1, 3.8, 1.5, 0.3],\n",
       "         [5.4, 3.4, 1.7, 0.2],\n",
       "         [5.1, 3.7, 1.5, 0.4],\n",
       "         [4.6, 3.6, 1. , 0.2],\n",
       "         [5.1, 3.3, 1.7, 0.5],\n",
       "         [4.8, 3.4, 1.9, 0.2],\n",
       "         [5. , 3. , 1.6, 0.2],\n",
       "         [5. , 3.4, 1.6, 0.4],\n",
       "         [5.2, 3.5, 1.5, 0.2],\n",
       "         [5.2, 3.4, 1.4, 0.2],\n",
       "         [4.7, 3.2, 1.6, 0.2],\n",
       "         [4.8, 3.1, 1.6, 0.2],\n",
       "         [5.4, 3.4, 1.5, 0.4],\n",
       "         [5.2, 4.1, 1.5, 0.1],\n",
       "         [5.5, 4.2, 1.4, 0.2],\n",
       "         [4.9, 3.1, 1.5, 0.2],\n",
       "         [5. , 3.2, 1.2, 0.2],\n",
       "         [5.5, 3.5, 1.3, 0.2],\n",
       "         [4.9, 3.6, 1.4, 0.1],\n",
       "         [4.4, 3. , 1.3, 0.2],\n",
       "         [5.1, 3.4, 1.5, 0.2],\n",
       "         [5. , 3.5, 1.3, 0.3],\n",
       "         [4.5, 2.3, 1.3, 0.3],\n",
       "         [4.4, 3.2, 1.3, 0.2],\n",
       "         [5. , 3.5, 1.6, 0.6],\n",
       "         [5.1, 3.8, 1.9, 0.4],\n",
       "         [4.8, 3. , 1.4, 0.3],\n",
       "         [5.1, 3.8, 1.6, 0.2],\n",
       "         [4.6, 3.2, 1.4, 0.2],\n",
       "         [5.3, 3.7, 1.5, 0.2],\n",
       "         [5. , 3.3, 1.4, 0.2],\n",
       "         [7. , 3.2, 4.7, 1.4],\n",
       "         [6.4, 3.2, 4.5, 1.5],\n",
       "         [6.9, 3.1, 4.9, 1.5],\n",
       "         [5.5, 2.3, 4. , 1.3],\n",
       "         [6.5, 2.8, 4.6, 1.5],\n",
       "         [5.7, 2.8, 4.5, 1.3],\n",
       "         [6.3, 3.3, 4.7, 1.6],\n",
       "         [4.9, 2.4, 3.3, 1. ],\n",
       "         [6.6, 2.9, 4.6, 1.3],\n",
       "         [5.2, 2.7, 3.9, 1.4],\n",
       "         [5. , 2. , 3.5, 1. ],\n",
       "         [5.9, 3. , 4.2, 1.5],\n",
       "         [6. , 2.2, 4. , 1. ],\n",
       "         [6.1, 2.9, 4.7, 1.4],\n",
       "         [5.6, 2.9, 3.6, 1.3],\n",
       "         [6.7, 3.1, 4.4, 1.4],\n",
       "         [5.6, 3. , 4.5, 1.5],\n",
       "         [5.8, 2.7, 4.1, 1. ],\n",
       "         [6.2, 2.2, 4.5, 1.5],\n",
       "         [5.6, 2.5, 3.9, 1.1],\n",
       "         [5.9, 3.2, 4.8, 1.8],\n",
       "         [6.1, 2.8, 4. , 1.3],\n",
       "         [6.3, 2.5, 4.9, 1.5],\n",
       "         [6.1, 2.8, 4.7, 1.2],\n",
       "         [6.4, 2.9, 4.3, 1.3],\n",
       "         [6.6, 3. , 4.4, 1.4],\n",
       "         [6.8, 2.8, 4.8, 1.4],\n",
       "         [6.7, 3. , 5. , 1.7],\n",
       "         [6. , 2.9, 4.5, 1.5],\n",
       "         [5.7, 2.6, 3.5, 1. ],\n",
       "         [5.5, 2.4, 3.8, 1.1],\n",
       "         [5.5, 2.4, 3.7, 1. ],\n",
       "         [5.8, 2.7, 3.9, 1.2],\n",
       "         [6. , 2.7, 5.1, 1.6],\n",
       "         [5.4, 3. , 4.5, 1.5],\n",
       "         [6. , 3.4, 4.5, 1.6],\n",
       "         [6.7, 3.1, 4.7, 1.5],\n",
       "         [6.3, 2.3, 4.4, 1.3],\n",
       "         [5.6, 3. , 4.1, 1.3],\n",
       "         [5.5, 2.5, 4. , 1.3],\n",
       "         [5.5, 2.6, 4.4, 1.2],\n",
       "         [6.1, 3. , 4.6, 1.4],\n",
       "         [5.8, 2.6, 4. , 1.2],\n",
       "         [5. , 2.3, 3.3, 1. ],\n",
       "         [5.6, 2.7, 4.2, 1.3],\n",
       "         [5.7, 3. , 4.2, 1.2],\n",
       "         [5.7, 2.9, 4.2, 1.3],\n",
       "         [6.2, 2.9, 4.3, 1.3],\n",
       "         [5.1, 2.5, 3. , 1.1],\n",
       "         [5.7, 2.8, 4.1, 1.3],\n",
       "         [6.3, 3.3, 6. , 2.5],\n",
       "         [5.8, 2.7, 5.1, 1.9],\n",
       "         [7.1, 3. , 5.9, 2.1],\n",
       "         [6.3, 2.9, 5.6, 1.8],\n",
       "         [6.5, 3. , 5.8, 2.2],\n",
       "         [7.6, 3. , 6.6, 2.1],\n",
       "         [4.9, 2.5, 4.5, 1.7],\n",
       "         [7.3, 2.9, 6.3, 1.8],\n",
       "         [6.7, 2.5, 5.8, 1.8],\n",
       "         [7.2, 3.6, 6.1, 2.5],\n",
       "         [6.5, 3.2, 5.1, 2. ],\n",
       "         [6.4, 2.7, 5.3, 1.9],\n",
       "         [6.8, 3. , 5.5, 2.1],\n",
       "         [5.7, 2.5, 5. , 2. ],\n",
       "         [5.8, 2.8, 5.1, 2.4],\n",
       "         [6.4, 3.2, 5.3, 2.3],\n",
       "         [6.5, 3. , 5.5, 1.8],\n",
       "         [7.7, 3.8, 6.7, 2.2],\n",
       "         [7.7, 2.6, 6.9, 2.3],\n",
       "         [6. , 2.2, 5. , 1.5],\n",
       "         [6.9, 3.2, 5.7, 2.3],\n",
       "         [5.6, 2.8, 4.9, 2. ],\n",
       "         [7.7, 2.8, 6.7, 2. ],\n",
       "         [6.3, 2.7, 4.9, 1.8],\n",
       "         [6.7, 3.3, 5.7, 2.1],\n",
       "         [7.2, 3.2, 6. , 1.8],\n",
       "         [6.2, 2.8, 4.8, 1.8],\n",
       "         [6.1, 3. , 4.9, 1.8],\n",
       "         [6.4, 2.8, 5.6, 2.1],\n",
       "         [7.2, 3. , 5.8, 1.6],\n",
       "         [7.4, 2.8, 6.1, 1.9],\n",
       "         [7.9, 3.8, 6.4, 2. ],\n",
       "         [6.4, 2.8, 5.6, 2.2],\n",
       "         [6.3, 2.8, 5.1, 1.5],\n",
       "         [6.1, 2.6, 5.6, 1.4],\n",
       "         [7.7, 3. , 6.1, 2.3],\n",
       "         [6.3, 3.4, 5.6, 2.4],\n",
       "         [6.4, 3.1, 5.5, 1.8],\n",
       "         [6. , 3. , 4.8, 1.8],\n",
       "         [6.9, 3.1, 5.4, 2.1],\n",
       "         [6.7, 3.1, 5.6, 2.4],\n",
       "         [6.9, 3.1, 5.1, 2.3],\n",
       "         [5.8, 2.7, 5.1, 1.9],\n",
       "         [6.8, 3.2, 5.9, 2.3],\n",
       "         [6.7, 3.3, 5.7, 2.5],\n",
       "         [6.7, 3. , 5.2, 2.3],\n",
       "         [6.3, 2.5, 5. , 1.9],\n",
       "         [6.5, 3. , 5.2, 2. ],\n",
       "         [6.2, 3.4, 5.4, 2.3],\n",
       "         [5.9, 3. , 5.1, 1.8]]),\n",
       "  'target': array([0, 0, 0, 0, 0, 0, 0, 0, 0, 0, 0, 0, 0, 0, 0, 0, 0, 0, 0, 0, 0, 0,\n",
       "         0, 0, 0, 0, 0, 0, 0, 0, 0, 0, 0, 0, 0, 0, 0, 0, 0, 0, 0, 0, 0, 0,\n",
       "         0, 0, 0, 0, 0, 0, 1, 1, 1, 1, 1, 1, 1, 1, 1, 1, 1, 1, 1, 1, 1, 1,\n",
       "         1, 1, 1, 1, 1, 1, 1, 1, 1, 1, 1, 1, 1, 1, 1, 1, 1, 1, 1, 1, 1, 1,\n",
       "         1, 1, 1, 1, 1, 1, 1, 1, 1, 1, 1, 1, 2, 2, 2, 2, 2, 2, 2, 2, 2, 2,\n",
       "         2, 2, 2, 2, 2, 2, 2, 2, 2, 2, 2, 2, 2, 2, 2, 2, 2, 2, 2, 2, 2, 2,\n",
       "         2, 2, 2, 2, 2, 2, 2, 2, 2, 2, 2, 2, 2, 2, 2, 2, 2, 2]),\n",
       "  'frame': None,\n",
       "  'target_names': array(['setosa', 'versicolor', 'virginica'], dtype='<U10'),\n",
       "  'DESCR': '.. _iris_dataset:\\n\\nIris plants dataset\\n--------------------\\n\\n**Data Set Characteristics:**\\n\\n    :Number of Instances: 150 (50 in each of three classes)\\n    :Number of Attributes: 4 numeric, predictive attributes and the class\\n    :Attribute Information:\\n        - sepal length in cm\\n        - sepal width in cm\\n        - petal length in cm\\n        - petal width in cm\\n        - class:\\n                - Iris-Setosa\\n                - Iris-Versicolour\\n                - Iris-Virginica\\n                \\n    :Summary Statistics:\\n\\n    ============== ==== ==== ======= ===== ====================\\n                    Min  Max   Mean    SD   Class Correlation\\n    ============== ==== ==== ======= ===== ====================\\n    sepal length:   4.3  7.9   5.84   0.83    0.7826\\n    sepal width:    2.0  4.4   3.05   0.43   -0.4194\\n    petal length:   1.0  6.9   3.76   1.76    0.9490  (high!)\\n    petal width:    0.1  2.5   1.20   0.76    0.9565  (high!)\\n    ============== ==== ==== ======= ===== ====================\\n\\n    :Missing Attribute Values: None\\n    :Class Distribution: 33.3% for each of 3 classes.\\n    :Creator: R.A. Fisher\\n    :Donor: Michael Marshall (MARSHALL%PLU@io.arc.nasa.gov)\\n    :Date: July, 1988\\n\\nThe famous Iris database, first used by Sir R.A. Fisher. The dataset is taken\\nfrom Fisher\\'s paper. Note that it\\'s the same as in R, but not as in the UCI\\nMachine Learning Repository, which has two wrong data points.\\n\\nThis is perhaps the best known database to be found in the\\npattern recognition literature.  Fisher\\'s paper is a classic in the field and\\nis referenced frequently to this day.  (See Duda & Hart, for example.)  The\\ndata set contains 3 classes of 50 instances each, where each class refers to a\\ntype of iris plant.  One class is linearly separable from the other 2; the\\nlatter are NOT linearly separable from each other.\\n\\n.. topic:: References\\n\\n   - Fisher, R.A. \"The use of multiple measurements in taxonomic problems\"\\n     Annual Eugenics, 7, Part II, 179-188 (1936); also in \"Contributions to\\n     Mathematical Statistics\" (John Wiley, NY, 1950).\\n   - Duda, R.O., & Hart, P.E. (1973) Pattern Classification and Scene Analysis.\\n     (Q327.D83) John Wiley & Sons.  ISBN 0-471-22361-1.  See page 218.\\n   - Dasarathy, B.V. (1980) \"Nosing Around the Neighborhood: A New System\\n     Structure and Classification Rule for Recognition in Partially Exposed\\n     Environments\".  IEEE Transactions on Pattern Analysis and Machine\\n     Intelligence, Vol. PAMI-2, No. 1, 67-71.\\n   - Gates, G.W. (1972) \"The Reduced Nearest Neighbor Rule\".  IEEE Transactions\\n     on Information Theory, May 1972, 431-433.\\n   - See also: 1988 MLC Proceedings, 54-64.  Cheeseman et al\"s AUTOCLASS II\\n     conceptual clustering system finds 3 classes in the data.\\n   - Many, many more ...',\n",
       "  'feature_names': ['sepal length (cm)',\n",
       "   'sepal width (cm)',\n",
       "   'petal length (cm)',\n",
       "   'petal width (cm)'],\n",
       "  'filename': 'C:\\\\Users\\\\sori-\\\\anaconda3\\\\lib\\\\site-packages\\\\sklearn\\\\datasets\\\\data\\\\iris.csv'})"
      ]
     },
     "execution_count": 7,
     "metadata": {},
     "output_type": "execute_result"
    }
   ],
   "source": [
    "# Get dataset\n",
    "iris = datasets.load_iris()\n",
    "type(iris), iris                            # type: Bunch object"
   ]
  },
  {
   "cell_type": "code",
   "execution_count": 9,
   "metadata": {},
   "outputs": [
    {
     "data": {
      "text/plain": [
       "((150, 4), (150,))"
      ]
     },
     "execution_count": 9,
     "metadata": {},
     "output_type": "execute_result"
    }
   ],
   "source": [
    "# Set x and y\n",
    "x = iris.data\n",
    "y = iris.target\n",
    "x.shape, y.shape"
   ]
  },
  {
   "cell_type": "code",
   "execution_count": 11,
   "metadata": {},
   "outputs": [
    {
     "data": {
      "text/plain": [
       "array([0, 1, 2])"
      ]
     },
     "execution_count": 11,
     "metadata": {},
     "output_type": "execute_result"
    }
   ],
   "source": [
    "# Confirm category of y data\n",
    "import numpy as np\n",
    "np.unique(y)"
   ]
  },
  {
   "cell_type": "code",
   "execution_count": 14,
   "metadata": {},
   "outputs": [
    {
     "data": {
      "text/plain": [
       "((127, 4), (23, 4))"
      ]
     },
     "execution_count": 14,
     "metadata": {},
     "output_type": "execute_result"
    }
   ],
   "source": [
    "# Split train & test data\n",
    "from sklearn.model_selection import train_test_split\n",
    "x_train, x_test, y_train, y_test = train_test_split(x, y, train_size=0.85, random_state=5)\n",
    "x_train.shape, x_test.shape"
   ]
  },
  {
   "cell_type": "code",
   "execution_count": 19,
   "metadata": {},
   "outputs": [],
   "source": [
    "# Regression object\n",
    "from sklearn.linear_model import LogisticRegression\n",
    "logi = LogisticRegression(solver='newton-cg')           # Changed solver as the code below cast warning"
   ]
  },
  {
   "cell_type": "code",
   "execution_count": 20,
   "metadata": {},
   "outputs": [
    {
     "data": {
      "text/plain": [
       "(array([0, 1, 2]),\n",
       " array([[-0.43399638,  0.8941057 , -2.35467719, -1.02093544],\n",
       "        [ 0.68432277, -0.5119369 , -0.16568917, -1.05106566],\n",
       "        [-0.25032639, -0.3821688 ,  2.52036636,  2.07200109]]),\n",
       " array([  9.41459576,   1.74974005, -11.16433581]))"
      ]
     },
     "execution_count": 20,
     "metadata": {},
     "output_type": "execute_result"
    }
   ],
   "source": [
    "# Fit model with data\n",
    "logi.fit(x_train, y_train)\n",
    "logi.classes_, logi.coef_, logi.intercept_"
   ]
  },
  {
   "cell_type": "code",
   "execution_count": 24,
   "metadata": {},
   "outputs": [
    {
     "data": {
      "text/html": [
       "<div>\n",
       "<style scoped>\n",
       "    .dataframe tbody tr th:only-of-type {\n",
       "        vertical-align: middle;\n",
       "    }\n",
       "\n",
       "    .dataframe tbody tr th {\n",
       "        vertical-align: top;\n",
       "    }\n",
       "\n",
       "    .dataframe thead th {\n",
       "        text-align: right;\n",
       "    }\n",
       "</style>\n",
       "<table border=\"1\" class=\"dataframe\">\n",
       "  <thead>\n",
       "    <tr style=\"text-align: right;\">\n",
       "      <th></th>\n",
       "      <th>Cat_0</th>\n",
       "      <th>Cat_1</th>\n",
       "      <th>Cat_2</th>\n",
       "    </tr>\n",
       "  </thead>\n",
       "  <tbody>\n",
       "    <tr>\n",
       "      <th>0</th>\n",
       "      <td>0.027951</td>\n",
       "      <td>0.949961</td>\n",
       "      <td>2.208835e-02</td>\n",
       "    </tr>\n",
       "    <tr>\n",
       "      <th>1</th>\n",
       "      <td>0.000108</td>\n",
       "      <td>0.242999</td>\n",
       "      <td>7.568931e-01</td>\n",
       "    </tr>\n",
       "    <tr>\n",
       "      <th>2</th>\n",
       "      <td>0.000097</td>\n",
       "      <td>0.038322</td>\n",
       "      <td>9.615807e-01</td>\n",
       "    </tr>\n",
       "    <tr>\n",
       "      <th>3</th>\n",
       "      <td>0.987919</td>\n",
       "      <td>0.012081</td>\n",
       "      <td>4.525860e-08</td>\n",
       "    </tr>\n",
       "    <tr>\n",
       "      <th>4</th>\n",
       "      <td>0.000001</td>\n",
       "      <td>0.006586</td>\n",
       "      <td>9.934129e-01</td>\n",
       "    </tr>\n",
       "  </tbody>\n",
       "</table>\n",
       "</div>"
      ],
      "text/plain": [
       "      Cat_0     Cat_1         Cat_2\n",
       "0  0.027951  0.949961  2.208835e-02\n",
       "1  0.000108  0.242999  7.568931e-01\n",
       "2  0.000097  0.038322  9.615807e-01\n",
       "3  0.987919  0.012081  4.525860e-08\n",
       "4  0.000001  0.006586  9.934129e-01"
      ]
     },
     "execution_count": 24,
     "metadata": {},
     "output_type": "execute_result"
    }
   ],
   "source": [
    "# Predict the probability of y_test data\n",
    "# Softmax fx is used for multimonial classes\n",
    "import pandas as pd\n",
    "pd.DataFrame(logi.predict_proba(x_test), columns=['Cat_0', 'Cat_1', 'Cat_2']).head()"
   ]
  },
  {
   "cell_type": "code",
   "execution_count": 32,
   "metadata": {},
   "outputs": [
    {
     "data": {
      "text/html": [
       "<div>\n",
       "<style scoped>\n",
       "    .dataframe tbody tr th:only-of-type {\n",
       "        vertical-align: middle;\n",
       "    }\n",
       "\n",
       "    .dataframe tbody tr th {\n",
       "        vertical-align: top;\n",
       "    }\n",
       "\n",
       "    .dataframe thead th {\n",
       "        text-align: right;\n",
       "    }\n",
       "</style>\n",
       "<table border=\"1\" class=\"dataframe\">\n",
       "  <thead>\n",
       "    <tr style=\"text-align: right;\">\n",
       "      <th></th>\n",
       "      <th>Category</th>\n",
       "    </tr>\n",
       "  </thead>\n",
       "  <tbody>\n",
       "    <tr>\n",
       "      <th>0</th>\n",
       "      <td>1</td>\n",
       "    </tr>\n",
       "    <tr>\n",
       "      <th>1</th>\n",
       "      <td>2</td>\n",
       "    </tr>\n",
       "    <tr>\n",
       "      <th>2</th>\n",
       "      <td>2</td>\n",
       "    </tr>\n",
       "    <tr>\n",
       "      <th>3</th>\n",
       "      <td>0</td>\n",
       "    </tr>\n",
       "    <tr>\n",
       "      <th>4</th>\n",
       "      <td>2</td>\n",
       "    </tr>\n",
       "  </tbody>\n",
       "</table>\n",
       "</div>"
      ],
      "text/plain": [
       "   Category\n",
       "0         1\n",
       "1         2\n",
       "2         2\n",
       "3         0\n",
       "4         2"
      ]
     },
     "execution_count": 32,
     "metadata": {},
     "output_type": "execute_result"
    }
   ],
   "source": [
    "# Predict class\n",
    "pd.DataFrame(logi.predict(x_test), columns=['Category']).head()"
   ]
  },
  {
   "cell_type": "code",
   "execution_count": 27,
   "metadata": {},
   "outputs": [
    {
     "data": {
      "text/html": [
       "<div>\n",
       "<style scoped>\n",
       "    .dataframe tbody tr th:only-of-type {\n",
       "        vertical-align: middle;\n",
       "    }\n",
       "\n",
       "    .dataframe tbody tr th {\n",
       "        vertical-align: top;\n",
       "    }\n",
       "\n",
       "    .dataframe thead th {\n",
       "        text-align: right;\n",
       "    }\n",
       "</style>\n",
       "<table border=\"1\" class=\"dataframe\">\n",
       "  <thead>\n",
       "    <tr style=\"text-align: right;\">\n",
       "      <th></th>\n",
       "      <th>Category</th>\n",
       "    </tr>\n",
       "  </thead>\n",
       "  <tbody>\n",
       "    <tr>\n",
       "      <th>0</th>\n",
       "      <td>1</td>\n",
       "    </tr>\n",
       "    <tr>\n",
       "      <th>1</th>\n",
       "      <td>2</td>\n",
       "    </tr>\n",
       "    <tr>\n",
       "      <th>2</th>\n",
       "      <td>2</td>\n",
       "    </tr>\n",
       "    <tr>\n",
       "      <th>3</th>\n",
       "      <td>0</td>\n",
       "    </tr>\n",
       "    <tr>\n",
       "      <th>4</th>\n",
       "      <td>2</td>\n",
       "    </tr>\n",
       "  </tbody>\n",
       "</table>\n",
       "</div>"
      ],
      "text/plain": [
       "   Category\n",
       "0         1\n",
       "1         2\n",
       "2         2\n",
       "3         0\n",
       "4         2"
      ]
     },
     "execution_count": 27,
     "metadata": {},
     "output_type": "execute_result"
    }
   ],
   "source": [
    "# Compare with the actual y_test data\n",
    "pd.DataFrame(y_test, columns=['Category']).head()"
   ]
  },
  {
   "cell_type": "code",
   "execution_count": 28,
   "metadata": {},
   "outputs": [
    {
     "data": {
      "text/plain": [
       "0.9130434782608695"
      ]
     },
     "execution_count": 28,
     "metadata": {},
     "output_type": "execute_result"
    }
   ],
   "source": [
    "# Confirm with score value - mean accuracy\n",
    "logi.score(x_test, y_test)                        # Pretty high value"
   ]
  },
  {
   "cell_type": "markdown",
   "metadata": {},
   "source": [
    "---\n",
    "---\n",
    "## Classification Model Evaluation"
   ]
  },
  {
   "cell_type": "code",
   "execution_count": 52,
   "metadata": {},
   "outputs": [],
   "source": [
    "from sklearn.metrics import classification_report, confusion_matrix, r2_score"
   ]
  },
  {
   "cell_type": "code",
   "execution_count": 50,
   "metadata": {},
   "outputs": [
    {
     "name": "stdout",
     "output_type": "stream",
     "text": [
      "              precision    recall  f1-score   support\n",
      "\n",
      "           0       1.00      1.00      1.00         8\n",
      "           1       0.83      0.83      0.83         6\n",
      "           2       0.89      0.89      0.89         9\n",
      "\n",
      "    accuracy                           0.91        23\n",
      "   macro avg       0.91      0.91      0.91        23\n",
      "weighted avg       0.91      0.91      0.91        23\n",
      "\n"
     ]
    }
   ],
   "source": [
    "# Get report between the actual data & predicted data\n",
    "y_pred = logi.predict(x_test)\n",
    "print(classification_report(y_test, y_pred))"
   ]
  },
  {
   "cell_type": "markdown",
   "metadata": {},
   "source": [
    "#### Confusion matrix\n",
    "Confusion matrix shows the answer to 'How many elements were predicted correctly?'\n",
    "* (i, j) entry: the number of samples with **true label being i-th class** and **predicted label being j-th class**\n",
    "* Diagonal line: shows how many were predicted correctly"
   ]
  },
  {
   "cell_type": "code",
   "execution_count": 54,
   "metadata": {},
   "outputs": [
    {
     "data": {
      "text/plain": [
       "array([[8, 0, 0],\n",
       "       [0, 5, 1],\n",
       "       [0, 1, 8]], dtype=int64)"
      ]
     },
     "execution_count": 54,
     "metadata": {},
     "output_type": "execute_result"
    }
   ],
   "source": [
    "confusion_matrix(y_test, y_pred)             "
   ]
  },
  {
   "cell_type": "markdown",
   "metadata": {},
   "source": [
    "---\n",
    "---\n",
    "## Classification with Advertising Data\n",
    "This data is about if an advertisement was clicked when exposed along with some variables of one's feature."
   ]
  },
  {
   "cell_type": "code",
   "execution_count": 67,
   "metadata": {},
   "outputs": [
    {
     "data": {
      "text/html": [
       "<div>\n",
       "<style scoped>\n",
       "    .dataframe tbody tr th:only-of-type {\n",
       "        vertical-align: middle;\n",
       "    }\n",
       "\n",
       "    .dataframe tbody tr th {\n",
       "        vertical-align: top;\n",
       "    }\n",
       "\n",
       "    .dataframe thead th {\n",
       "        text-align: right;\n",
       "    }\n",
       "</style>\n",
       "<table border=\"1\" class=\"dataframe\">\n",
       "  <thead>\n",
       "    <tr style=\"text-align: right;\">\n",
       "      <th></th>\n",
       "      <th>Daily Time Spent on Site</th>\n",
       "      <th>Age</th>\n",
       "      <th>Area Income</th>\n",
       "      <th>Daily Internet Usage</th>\n",
       "      <th>Ad Topic Line</th>\n",
       "      <th>City</th>\n",
       "      <th>Male</th>\n",
       "      <th>Country</th>\n",
       "      <th>Timestamp</th>\n",
       "      <th>Clicked on Ad</th>\n",
       "    </tr>\n",
       "  </thead>\n",
       "  <tbody>\n",
       "    <tr>\n",
       "      <th>997</th>\n",
       "      <td>51.63</td>\n",
       "      <td>51</td>\n",
       "      <td>42415.72</td>\n",
       "      <td>120.37</td>\n",
       "      <td>Expanded intangible solution</td>\n",
       "      <td>South Jessica</td>\n",
       "      <td>1</td>\n",
       "      <td>Mongolia</td>\n",
       "      <td>2016-02-01 17:24:57</td>\n",
       "      <td>1</td>\n",
       "    </tr>\n",
       "    <tr>\n",
       "      <th>998</th>\n",
       "      <td>55.55</td>\n",
       "      <td>19</td>\n",
       "      <td>41920.79</td>\n",
       "      <td>187.95</td>\n",
       "      <td>Proactive bandwidth-monitored policy</td>\n",
       "      <td>West Steven</td>\n",
       "      <td>0</td>\n",
       "      <td>Guatemala</td>\n",
       "      <td>2016-03-24 02:35:54</td>\n",
       "      <td>0</td>\n",
       "    </tr>\n",
       "    <tr>\n",
       "      <th>999</th>\n",
       "      <td>45.01</td>\n",
       "      <td>26</td>\n",
       "      <td>29875.80</td>\n",
       "      <td>178.35</td>\n",
       "      <td>Virtual 5thgeneration emulation</td>\n",
       "      <td>Ronniemouth</td>\n",
       "      <td>0</td>\n",
       "      <td>Brazil</td>\n",
       "      <td>2016-06-03 21:43:21</td>\n",
       "      <td>1</td>\n",
       "    </tr>\n",
       "  </tbody>\n",
       "</table>\n",
       "</div>"
      ],
      "text/plain": [
       "     Daily Time Spent on Site  Age  Area Income  Daily Internet Usage  \\\n",
       "997                     51.63   51     42415.72                120.37   \n",
       "998                     55.55   19     41920.79                187.95   \n",
       "999                     45.01   26     29875.80                178.35   \n",
       "\n",
       "                            Ad Topic Line           City  Male    Country  \\\n",
       "997          Expanded intangible solution  South Jessica     1   Mongolia   \n",
       "998  Proactive bandwidth-monitored policy    West Steven     0  Guatemala   \n",
       "999       Virtual 5thgeneration emulation    Ronniemouth     0     Brazil   \n",
       "\n",
       "              Timestamp  Clicked on Ad  \n",
       "997 2016-02-01 17:24:57              1  \n",
       "998 2016-03-24 02:35:54              0  \n",
       "999 2016-06-03 21:43:21              1  "
      ]
     },
     "execution_count": 67,
     "metadata": {},
     "output_type": "execute_result"
    }
   ],
   "source": [
    "# Import excel\n",
    "ad = pd.read_excel('./files/advertising.xls')\n",
    "ad.tail(3)             "
   ]
  },
  {
   "cell_type": "code",
   "execution_count": 63,
   "metadata": {
    "collapsed": true
   },
   "outputs": [
    {
     "name": "stdout",
     "output_type": "stream",
     "text": [
      "<class 'pandas.core.frame.DataFrame'>\n",
      "RangeIndex: 1000 entries, 0 to 999\n",
      "Data columns (total 10 columns):\n",
      " #   Column                    Non-Null Count  Dtype         \n",
      "---  ------                    --------------  -----         \n",
      " 0   Daily Time Spent on Site  1000 non-null   float64       \n",
      " 1   Age                       1000 non-null   int64         \n",
      " 2   Area Income               1000 non-null   float64       \n",
      " 3   Daily Internet Usage      1000 non-null   float64       \n",
      " 4   Ad Topic Line             1000 non-null   object        \n",
      " 5   City                      1000 non-null   object        \n",
      " 6   Male                      1000 non-null   int64         \n",
      " 7   Country                   1000 non-null   object        \n",
      " 8   Timestamp                 1000 non-null   datetime64[ns]\n",
      " 9   Clicked on Ad             1000 non-null   int64         \n",
      "dtypes: datetime64[ns](1), float64(3), int64(3), object(3)\n",
      "memory usage: 78.2+ KB\n"
     ]
    }
   ],
   "source": [
    "# Check info\n",
    "ad.info()"
   ]
  },
  {
   "cell_type": "code",
   "execution_count": 62,
   "metadata": {
    "collapsed": true
   },
   "outputs": [
    {
     "name": "stderr",
     "output_type": "stream",
     "text": [
      "C:\\Users\\sori-\\anaconda3\\lib\\site-packages\\ipykernel_launcher.py:2: FutureWarning: Treating datetime data as categorical rather than numeric in `.describe` is deprecated and will be removed in a future version of pandas. Specify `datetime_is_numeric=True` to silence this warning and adopt the future behavior now.\n",
      "  \n"
     ]
    },
    {
     "data": {
      "text/html": [
       "<div>\n",
       "<style scoped>\n",
       "    .dataframe tbody tr th:only-of-type {\n",
       "        vertical-align: middle;\n",
       "    }\n",
       "\n",
       "    .dataframe tbody tr th {\n",
       "        vertical-align: top;\n",
       "    }\n",
       "\n",
       "    .dataframe thead th {\n",
       "        text-align: right;\n",
       "    }\n",
       "</style>\n",
       "<table border=\"1\" class=\"dataframe\">\n",
       "  <thead>\n",
       "    <tr style=\"text-align: right;\">\n",
       "      <th></th>\n",
       "      <th>Daily Time Spent on Site</th>\n",
       "      <th>Age</th>\n",
       "      <th>Area Income</th>\n",
       "      <th>Daily Internet Usage</th>\n",
       "      <th>Ad Topic Line</th>\n",
       "      <th>City</th>\n",
       "      <th>Male</th>\n",
       "      <th>Country</th>\n",
       "      <th>Timestamp</th>\n",
       "      <th>Clicked on Ad</th>\n",
       "    </tr>\n",
       "  </thead>\n",
       "  <tbody>\n",
       "    <tr>\n",
       "      <th>count</th>\n",
       "      <td>1000.000000</td>\n",
       "      <td>1000.000000</td>\n",
       "      <td>1000.000000</td>\n",
       "      <td>1000.000000</td>\n",
       "      <td>1000</td>\n",
       "      <td>1000</td>\n",
       "      <td>1000.000000</td>\n",
       "      <td>1000</td>\n",
       "      <td>1000</td>\n",
       "      <td>1000.00000</td>\n",
       "    </tr>\n",
       "    <tr>\n",
       "      <th>unique</th>\n",
       "      <td>NaN</td>\n",
       "      <td>NaN</td>\n",
       "      <td>NaN</td>\n",
       "      <td>NaN</td>\n",
       "      <td>1000</td>\n",
       "      <td>969</td>\n",
       "      <td>NaN</td>\n",
       "      <td>237</td>\n",
       "      <td>1000</td>\n",
       "      <td>NaN</td>\n",
       "    </tr>\n",
       "    <tr>\n",
       "      <th>top</th>\n",
       "      <td>NaN</td>\n",
       "      <td>NaN</td>\n",
       "      <td>NaN</td>\n",
       "      <td>NaN</td>\n",
       "      <td>Networked logistical info-mediaries</td>\n",
       "      <td>Williamsport</td>\n",
       "      <td>NaN</td>\n",
       "      <td>France</td>\n",
       "      <td>2016-05-07 15:16:07</td>\n",
       "      <td>NaN</td>\n",
       "    </tr>\n",
       "    <tr>\n",
       "      <th>freq</th>\n",
       "      <td>NaN</td>\n",
       "      <td>NaN</td>\n",
       "      <td>NaN</td>\n",
       "      <td>NaN</td>\n",
       "      <td>1</td>\n",
       "      <td>3</td>\n",
       "      <td>NaN</td>\n",
       "      <td>9</td>\n",
       "      <td>1</td>\n",
       "      <td>NaN</td>\n",
       "    </tr>\n",
       "    <tr>\n",
       "      <th>first</th>\n",
       "      <td>NaN</td>\n",
       "      <td>NaN</td>\n",
       "      <td>NaN</td>\n",
       "      <td>NaN</td>\n",
       "      <td>NaN</td>\n",
       "      <td>NaN</td>\n",
       "      <td>NaN</td>\n",
       "      <td>NaN</td>\n",
       "      <td>2016-01-01 02:52:10</td>\n",
       "      <td>NaN</td>\n",
       "    </tr>\n",
       "    <tr>\n",
       "      <th>last</th>\n",
       "      <td>NaN</td>\n",
       "      <td>NaN</td>\n",
       "      <td>NaN</td>\n",
       "      <td>NaN</td>\n",
       "      <td>NaN</td>\n",
       "      <td>NaN</td>\n",
       "      <td>NaN</td>\n",
       "      <td>NaN</td>\n",
       "      <td>2016-07-24 00:22:16</td>\n",
       "      <td>NaN</td>\n",
       "    </tr>\n",
       "    <tr>\n",
       "      <th>mean</th>\n",
       "      <td>65.000200</td>\n",
       "      <td>36.009000</td>\n",
       "      <td>55000.000080</td>\n",
       "      <td>180.000100</td>\n",
       "      <td>NaN</td>\n",
       "      <td>NaN</td>\n",
       "      <td>0.481000</td>\n",
       "      <td>NaN</td>\n",
       "      <td>NaN</td>\n",
       "      <td>0.50000</td>\n",
       "    </tr>\n",
       "    <tr>\n",
       "      <th>std</th>\n",
       "      <td>15.853615</td>\n",
       "      <td>8.785562</td>\n",
       "      <td>13414.634022</td>\n",
       "      <td>43.902339</td>\n",
       "      <td>NaN</td>\n",
       "      <td>NaN</td>\n",
       "      <td>0.499889</td>\n",
       "      <td>NaN</td>\n",
       "      <td>NaN</td>\n",
       "      <td>0.50025</td>\n",
       "    </tr>\n",
       "    <tr>\n",
       "      <th>min</th>\n",
       "      <td>32.600000</td>\n",
       "      <td>19.000000</td>\n",
       "      <td>13996.500000</td>\n",
       "      <td>104.780000</td>\n",
       "      <td>NaN</td>\n",
       "      <td>NaN</td>\n",
       "      <td>0.000000</td>\n",
       "      <td>NaN</td>\n",
       "      <td>NaN</td>\n",
       "      <td>0.00000</td>\n",
       "    </tr>\n",
       "    <tr>\n",
       "      <th>25%</th>\n",
       "      <td>51.360000</td>\n",
       "      <td>29.000000</td>\n",
       "      <td>47031.802500</td>\n",
       "      <td>138.830000</td>\n",
       "      <td>NaN</td>\n",
       "      <td>NaN</td>\n",
       "      <td>0.000000</td>\n",
       "      <td>NaN</td>\n",
       "      <td>NaN</td>\n",
       "      <td>0.00000</td>\n",
       "    </tr>\n",
       "    <tr>\n",
       "      <th>50%</th>\n",
       "      <td>68.215000</td>\n",
       "      <td>35.000000</td>\n",
       "      <td>57012.300000</td>\n",
       "      <td>183.130000</td>\n",
       "      <td>NaN</td>\n",
       "      <td>NaN</td>\n",
       "      <td>0.000000</td>\n",
       "      <td>NaN</td>\n",
       "      <td>NaN</td>\n",
       "      <td>0.50000</td>\n",
       "    </tr>\n",
       "    <tr>\n",
       "      <th>75%</th>\n",
       "      <td>78.547500</td>\n",
       "      <td>42.000000</td>\n",
       "      <td>65470.635000</td>\n",
       "      <td>218.792500</td>\n",
       "      <td>NaN</td>\n",
       "      <td>NaN</td>\n",
       "      <td>1.000000</td>\n",
       "      <td>NaN</td>\n",
       "      <td>NaN</td>\n",
       "      <td>1.00000</td>\n",
       "    </tr>\n",
       "    <tr>\n",
       "      <th>max</th>\n",
       "      <td>91.430000</td>\n",
       "      <td>61.000000</td>\n",
       "      <td>79484.800000</td>\n",
       "      <td>269.960000</td>\n",
       "      <td>NaN</td>\n",
       "      <td>NaN</td>\n",
       "      <td>1.000000</td>\n",
       "      <td>NaN</td>\n",
       "      <td>NaN</td>\n",
       "      <td>1.00000</td>\n",
       "    </tr>\n",
       "  </tbody>\n",
       "</table>\n",
       "</div>"
      ],
      "text/plain": [
       "        Daily Time Spent on Site          Age   Area Income  \\\n",
       "count                1000.000000  1000.000000   1000.000000   \n",
       "unique                       NaN          NaN           NaN   \n",
       "top                          NaN          NaN           NaN   \n",
       "freq                         NaN          NaN           NaN   \n",
       "first                        NaN          NaN           NaN   \n",
       "last                         NaN          NaN           NaN   \n",
       "mean                   65.000200    36.009000  55000.000080   \n",
       "std                    15.853615     8.785562  13414.634022   \n",
       "min                    32.600000    19.000000  13996.500000   \n",
       "25%                    51.360000    29.000000  47031.802500   \n",
       "50%                    68.215000    35.000000  57012.300000   \n",
       "75%                    78.547500    42.000000  65470.635000   \n",
       "max                    91.430000    61.000000  79484.800000   \n",
       "\n",
       "        Daily Internet Usage                        Ad Topic Line  \\\n",
       "count            1000.000000                                 1000   \n",
       "unique                   NaN                                 1000   \n",
       "top                      NaN  Networked logistical info-mediaries   \n",
       "freq                     NaN                                    1   \n",
       "first                    NaN                                  NaN   \n",
       "last                     NaN                                  NaN   \n",
       "mean              180.000100                                  NaN   \n",
       "std                43.902339                                  NaN   \n",
       "min               104.780000                                  NaN   \n",
       "25%               138.830000                                  NaN   \n",
       "50%               183.130000                                  NaN   \n",
       "75%               218.792500                                  NaN   \n",
       "max               269.960000                                  NaN   \n",
       "\n",
       "                City         Male Country            Timestamp  Clicked on Ad  \n",
       "count           1000  1000.000000    1000                 1000     1000.00000  \n",
       "unique           969          NaN     237                 1000            NaN  \n",
       "top     Williamsport          NaN  France  2016-05-07 15:16:07            NaN  \n",
       "freq               3          NaN       9                    1            NaN  \n",
       "first            NaN          NaN     NaN  2016-01-01 02:52:10            NaN  \n",
       "last             NaN          NaN     NaN  2016-07-24 00:22:16            NaN  \n",
       "mean             NaN     0.481000     NaN                  NaN        0.50000  \n",
       "std              NaN     0.499889     NaN                  NaN        0.50025  \n",
       "min              NaN     0.000000     NaN                  NaN        0.00000  \n",
       "25%              NaN     0.000000     NaN                  NaN        0.00000  \n",
       "50%              NaN     0.000000     NaN                  NaN        0.50000  \n",
       "75%              NaN     1.000000     NaN                  NaN        1.00000  \n",
       "max              NaN     1.000000     NaN                  NaN        1.00000  "
      ]
     },
     "execution_count": 62,
     "metadata": {},
     "output_type": "execute_result"
    }
   ],
   "source": [
    "# Just to check if all topic lines were different\n",
    "ad.describe(include='all')                 # unique: 1000 -> all different"
   ]
  },
  {
   "cell_type": "markdown",
   "metadata": {},
   "source": [
    "In my opinion, column 'Ad topic Line' is the most relevant variable. Yet, the datatype is object making it difficult to engage in the regression. At first, all numeric columns will be included in independent data, predicting 'Clicked on Ad'. ML model will be logistic regression."
   ]
  },
  {
   "cell_type": "code",
   "execution_count": 65,
   "metadata": {},
   "outputs": [
    {
     "data": {
      "text/plain": [
       "array([0, 1], dtype=int64)"
      ]
     },
     "execution_count": 65,
     "metadata": {},
     "output_type": "execute_result"
    }
   ],
   "source": [
    "# See how many categories in 'Clicked on Ad'\n",
    "import numpy as np\n",
    "np.unique(ad['Clicked on Ad'])"
   ]
  },
  {
   "cell_type": "code",
   "execution_count": 68,
   "metadata": {},
   "outputs": [],
   "source": [
    "# Set x, y data\n",
    "x = ad[['Daily Time Spent on Site', 'Age', 'Area Income', 'Daily Internet Usage', 'Male']]\n",
    "y = ad['Clicked on Ad']"
   ]
  },
  {
   "cell_type": "code",
   "execution_count": 72,
   "metadata": {},
   "outputs": [
    {
     "data": {
      "text/plain": [
       "((850, 5), (150,))"
      ]
     },
     "execution_count": 72,
     "metadata": {},
     "output_type": "execute_result"
    }
   ],
   "source": [
    "# Split train & test data\n",
    "from sklearn.model_selection import train_test_split\n",
    "x_train, x_test, y_train, y_test = train_test_split(x, y, train_size=0.85, random_state=5)\n",
    "x_train.shape, y_test.shape"
   ]
  },
  {
   "cell_type": "code",
   "execution_count": 71,
   "metadata": {},
   "outputs": [],
   "source": [
    "# Model object\n",
    "from sklearn.linear_model import LogisticRegression\n",
    "logi = LogisticRegression()"
   ]
  },
  {
   "cell_type": "code",
   "execution_count": 74,
   "metadata": {},
   "outputs": [
    {
     "data": {
      "text/plain": [
       "(array([0, 1], dtype=int64),\n",
       " array([[-6.66573702e-02,  2.67295583e-01, -1.96761444e-05,\n",
       "         -2.23789211e-02,  1.47652071e-03]]),\n",
       " array([0.00536353]))"
      ]
     },
     "execution_count": 74,
     "metadata": {},
     "output_type": "execute_result"
    }
   ],
   "source": [
    "# Fit model with train data\n",
    "logi.fit(x_train, y_train)\n",
    "logi.classes_, logi.coef_, logi.intercept_"
   ]
  },
  {
   "cell_type": "code",
   "execution_count": 84,
   "metadata": {},
   "outputs": [
    {
     "data": {
      "text/html": [
       "<div>\n",
       "<style scoped>\n",
       "    .dataframe tbody tr th:only-of-type {\n",
       "        vertical-align: middle;\n",
       "    }\n",
       "\n",
       "    .dataframe tbody tr th {\n",
       "        vertical-align: top;\n",
       "    }\n",
       "\n",
       "    .dataframe thead th {\n",
       "        text-align: right;\n",
       "    }\n",
       "</style>\n",
       "<table border=\"1\" class=\"dataframe\">\n",
       "  <thead>\n",
       "    <tr style=\"text-align: right;\">\n",
       "      <th></th>\n",
       "      <th>Click_0</th>\n",
       "      <th>Click_1</th>\n",
       "    </tr>\n",
       "  </thead>\n",
       "  <tbody>\n",
       "    <tr>\n",
       "      <th>0</th>\n",
       "      <td>0.968118</td>\n",
       "      <td>0.031882</td>\n",
       "    </tr>\n",
       "    <tr>\n",
       "      <th>1</th>\n",
       "      <td>0.047380</td>\n",
       "      <td>0.952620</td>\n",
       "    </tr>\n",
       "    <tr>\n",
       "      <th>2</th>\n",
       "      <td>0.000792</td>\n",
       "      <td>0.999208</td>\n",
       "    </tr>\n",
       "    <tr>\n",
       "      <th>3</th>\n",
       "      <td>0.884592</td>\n",
       "      <td>0.115408</td>\n",
       "    </tr>\n",
       "    <tr>\n",
       "      <th>4</th>\n",
       "      <td>0.973254</td>\n",
       "      <td>0.026746</td>\n",
       "    </tr>\n",
       "  </tbody>\n",
       "</table>\n",
       "</div>"
      ],
      "text/plain": [
       "    Click_0   Click_1\n",
       "0  0.968118  0.031882\n",
       "1  0.047380  0.952620\n",
       "2  0.000792  0.999208\n",
       "3  0.884592  0.115408\n",
       "4  0.973254  0.026746"
      ]
     },
     "execution_count": 84,
     "metadata": {},
     "output_type": "execute_result"
    }
   ],
   "source": [
    "# Predict probability with test data\n",
    "pd.DataFrame(logi.predict_proba(x_test), columns=['Click_0', 'Click_1']).head()"
   ]
  },
  {
   "cell_type": "code",
   "execution_count": 83,
   "metadata": {},
   "outputs": [
    {
     "data": {
      "text/html": [
       "<div>\n",
       "<style scoped>\n",
       "    .dataframe tbody tr th:only-of-type {\n",
       "        vertical-align: middle;\n",
       "    }\n",
       "\n",
       "    .dataframe tbody tr th {\n",
       "        vertical-align: top;\n",
       "    }\n",
       "\n",
       "    .dataframe thead th {\n",
       "        text-align: right;\n",
       "    }\n",
       "</style>\n",
       "<table border=\"1\" class=\"dataframe\">\n",
       "  <thead>\n",
       "    <tr style=\"text-align: right;\">\n",
       "      <th></th>\n",
       "      <th>Category</th>\n",
       "    </tr>\n",
       "  </thead>\n",
       "  <tbody>\n",
       "    <tr>\n",
       "      <th>0</th>\n",
       "      <td>0</td>\n",
       "    </tr>\n",
       "    <tr>\n",
       "      <th>1</th>\n",
       "      <td>1</td>\n",
       "    </tr>\n",
       "    <tr>\n",
       "      <th>2</th>\n",
       "      <td>1</td>\n",
       "    </tr>\n",
       "    <tr>\n",
       "      <th>3</th>\n",
       "      <td>0</td>\n",
       "    </tr>\n",
       "    <tr>\n",
       "      <th>4</th>\n",
       "      <td>0</td>\n",
       "    </tr>\n",
       "  </tbody>\n",
       "</table>\n",
       "</div>"
      ],
      "text/plain": [
       "   Category\n",
       "0         0\n",
       "1         1\n",
       "2         1\n",
       "3         0\n",
       "4         0"
      ]
     },
     "execution_count": 83,
     "metadata": {},
     "output_type": "execute_result"
    }
   ],
   "source": [
    "# Predict class\n",
    "pd.DataFrame(logi.predict(x_test), columns=['Category']).head()"
   ]
  },
  {
   "cell_type": "code",
   "execution_count": 85,
   "metadata": {},
   "outputs": [
    {
     "data": {
      "text/plain": [
       "544    0\n",
       "515    1\n",
       "193    1\n",
       "11     0\n",
       "279    0\n",
       "Name: Clicked on Ad, dtype: int64"
      ]
     },
     "execution_count": 85,
     "metadata": {},
     "output_type": "execute_result"
    }
   ],
   "source": [
    "# Compare with the actual data\n",
    "y_test.head()"
   ]
  },
  {
   "cell_type": "code",
   "execution_count": 91,
   "metadata": {},
   "outputs": [
    {
     "data": {
      "text/plain": [
       "0.9"
      ]
     },
     "execution_count": 91,
     "metadata": {},
     "output_type": "execute_result"
    }
   ],
   "source": [
    "# Confirm score\n",
    "logi.score(x_test, y_test)"
   ]
  },
  {
   "cell_type": "markdown",
   "metadata": {},
   "source": [
    "### Model Evaluation"
   ]
  },
  {
   "cell_type": "code",
   "execution_count": 90,
   "metadata": {},
   "outputs": [
    {
     "name": "stdout",
     "output_type": "stream",
     "text": [
      "              precision    recall  f1-score   support\n",
      "\n",
      "           0       0.86      0.94      0.90        70\n",
      "           1       0.95      0.86      0.90        80\n",
      "\n",
      "    accuracy                           0.90       150\n",
      "   macro avg       0.90      0.90      0.90       150\n",
      "weighted avg       0.90      0.90      0.90       150\n",
      "\n"
     ]
    }
   ],
   "source": [
    "from sklearn.metrics import classification_report, confusion_matrix\n",
    "y_pred = logi.predict(x_test)\n",
    "print(classification_report(y_test, y_pred))"
   ]
  },
  {
   "cell_type": "code",
   "execution_count": 92,
   "metadata": {},
   "outputs": [
    {
     "data": {
      "text/plain": [
       "array([[66,  4],\n",
       "       [11, 69]], dtype=int64)"
      ]
     },
     "execution_count": 92,
     "metadata": {},
     "output_type": "execute_result"
    }
   ],
   "source": [
    "confusion_matrix(y_test, y_pred)"
   ]
  },
  {
   "cell_type": "markdown",
   "metadata": {},
   "source": [
    "### Service to the Public\n",
    "Save this notebook as pickle so that we can use it later on right away for service."
   ]
  },
  {
   "cell_type": "code",
   "execution_count": 99,
   "metadata": {},
   "outputs": [],
   "source": [
    "# Dump it into pickle\n",
    "import pickle\n",
    "pickle.dump(logi, open('./storage/advertising.pkl', 'wb'))"
   ]
  },
  {
   "cell_type": "code",
   "execution_count": 105,
   "metadata": {},
   "outputs": [
    {
     "data": {
      "text/plain": [
       "LogisticRegression()"
      ]
     },
     "execution_count": 105,
     "metadata": {},
     "output_type": "execute_result"
    }
   ],
   "source": [
    "# Load pickle to read\n",
    "logi2 = pickle.load(open('./storage/advertising.pkl', 'rb'))\n",
    "logi2"
   ]
  },
  {
   "cell_type": "markdown",
   "metadata": {},
   "source": [
    "If a user insert 5 independent variable, we can predict the outcome via the fitted model. "
   ]
  },
  {
   "cell_type": "code",
   "execution_count": 106,
   "metadata": {},
   "outputs": [
    {
     "name": "stdout",
     "output_type": "stream",
     "text": [
      "Daily time spent on site-----------60.08\n",
      "Age-----------------------------------32\n",
      "Area income----------------------68450.16\n",
      "Daily internet usage--------------101.94\n",
      "Male?--------------------------------0\n"
     ]
    },
    {
     "data": {
      "text/plain": [
       "array([1], dtype=int64)"
      ]
     },
     "execution_count": 106,
     "metadata": {},
     "output_type": "execute_result"
    }
   ],
   "source": [
    "# Get inputs from users & Predict\n",
    "time = float(input('Daily time spent on site-----------'))\n",
    "age = int(input('Age-----------------------------------'))\n",
    "income = float(input('Area income----------------------'))\n",
    "daily = float(input('Daily internet usage--------------'))\n",
    "male = int(input('Male?--------------------------------'))\n",
    "\n",
    "user_vo = np.array([[time, age, income, daily, male]])\n",
    "logi2.predict(user_vo)   "
   ]
  },
  {
   "cell_type": "markdown",
   "metadata": {},
   "source": [
    "In conclusion, ff the user data were like above, **the user would be expected to click the Ad** according to this logistic model."
   ]
  }
 ],
 "metadata": {
  "kernelspec": {
   "display_name": "Python 3",
   "language": "python",
   "name": "python3"
  },
  "language_info": {
   "codemirror_mode": {
    "name": "ipython",
    "version": 3
   },
   "file_extension": ".py",
   "mimetype": "text/x-python",
   "name": "python",
   "nbconvert_exporter": "python",
   "pygments_lexer": "ipython3",
   "version": "3.7.6"
  }
 },
 "nbformat": 4,
 "nbformat_minor": 4
}
