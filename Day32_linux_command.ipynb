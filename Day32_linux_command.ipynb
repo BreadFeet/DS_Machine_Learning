{
  "nbformat": 4,
  "nbformat_minor": 0,
  "metadata": {
    "colab": {
      "name": "Day32_linux_command.ipynb",
      "provenance": [],
      "collapsed_sections": [],
      "authorship_tag": "ABX9TyMN2Qm8inaCKjIt1UUUapzT",
      "include_colab_link": true
    },
    "kernelspec": {
      "name": "python3",
      "display_name": "Python 3"
    },
    "language_info": {
      "name": "python"
    }
  },
  "cells": [
    {
      "cell_type": "markdown",
      "metadata": {
        "id": "view-in-github",
        "colab_type": "text"
      },
      "source": [
        "<a href=\"https://colab.research.google.com/github/BreadFeet/DS_Machine_Learning/blob/master/Day32_linux_command.ipynb\" target=\"_parent\"><img src=\"https://colab.research.google.com/assets/colab-badge.svg\" alt=\"Open In Colab\"/></a>"
      ]
    },
    {
      "cell_type": "markdown",
      "metadata": {
        "id": "Mzax3vZ8gTgQ"
      },
      "source": [
        "# Linux Command\n",
        "Google colab의 OS는 linux"
      ]
    },
    {
      "cell_type": "code",
      "metadata": {
        "id": "2BqEwZGVhF4e",
        "colab": {
          "base_uri": "https://localhost:8080/"
        },
        "outputId": "bac8a4ce-bc97-4b14-ad4e-8457446ff5cf"
      },
      "source": [
        "# 현재 디렉토리 보기(Print Working Directory)\n",
        "!pwd"
      ],
      "execution_count": 3,
      "outputs": [
        {
          "output_type": "stream",
          "text": [
            "/content\n"
          ],
          "name": "stdout"
        }
      ]
    },
    {
      "cell_type": "code",
      "metadata": {
        "colab": {
          "base_uri": "https://localhost:8080/"
        },
        "id": "5xozOBk8e7-9",
        "outputId": "fbb3998c-5dde-409c-b457-b414a99458af"
      },
      "source": [
        "# pwd로 찾은 디렉토리에 있는 파일 확인(list 명령어)\n",
        "# Colab > folder에 있는 내용을 보여줌\n",
        "# Jupyter에서 !dir과 같은 기능\n",
        "!ls"
      ],
      "execution_count": 4,
      "outputs": [
        {
          "output_type": "stream",
          "text": [
            "etc  sample_data\n"
          ],
          "name": "stdout"
        }
      ]
    },
    {
      "cell_type": "code",
      "metadata": {
        "id": "iySbGVsuhFxT",
        "colab": {
          "base_uri": "https://localhost:8080/"
        },
        "outputId": "e6eff918-986d-46fe-eda8-0e0b30c23879"
      },
      "source": [
        "# 디렉토리 자세히 보기\n",
        "!ls -l"
      ],
      "execution_count": 9,
      "outputs": [
        {
          "output_type": "stream",
          "text": [
            "total 24\n",
            "drwxr-xr-x 78 0 root  4096 Jul  2 04:33 etc\n",
            "drwxr-xr-x  1 0 root  4096 Jul  2 04:46 sample_data\n",
            "-rw-r--r--  1 0 root 15021 Jul  2 04:35 Wholesale_customers_data.csv\n"
          ],
          "name": "stdout"
        }
      ]
    },
    {
      "cell_type": "code",
      "metadata": {
        "colab": {
          "base_uri": "https://localhost:8080/"
        },
        "id": "ZkzKKSUsihXi",
        "outputId": "0dbba181-1bbb-485a-9f16-2e64c54590cf"
      },
      "source": [
        "!ls -l ./          # 위와 동일"
      ],
      "execution_count": 8,
      "outputs": [
        {
          "output_type": "stream",
          "text": [
            "total 24\n",
            "drwxr-xr-x 78 0 root  4096 Jul  2 04:33 etc\n",
            "drwxr-xr-x  1 0 root  4096 Jul  2 04:46 sample_data\n",
            "-rw-r--r--  1 0 root 15021 Jul  2 04:35 Wholesale_customers_data.csv\n"
          ],
          "name": "stdout"
        }
      ]
    },
    {
      "cell_type": "markdown",
      "metadata": {
        "id": "d8jFdDU0jt16"
      },
      "source": [
        "Run 출력 결과에서 **d: directory(폴더)**, **-: 파일**을 의미한다"
      ]
    },
    {
      "cell_type": "code",
      "metadata": {
        "id": "_lkTrLmThGBj",
        "colab": {
          "base_uri": "https://localhost:8080/"
        },
        "outputId": "b2e1b8ea-cc39-468b-c5f5-6a1880af117e"
      },
      "source": [
        "# 하위 경로에 있는 파일 확인\n",
        "!ls -l ./sample_data"
      ],
      "execution_count": 7,
      "outputs": [
        {
          "output_type": "stream",
          "text": [
            "total 55504\n",
            "-rwxr-xr-x 1 0 root     1697 Jan  1  2000 anscombe.json\n",
            "-rw-r--r-- 1 0 root   301141 Jun 15 13:37 california_housing_test.csv\n",
            "-rw-r--r-- 1 0 root  1706430 Jun 15 13:37 california_housing_train.csv\n",
            "-rw-r--r-- 1 0 root 18289443 Jun 15 13:37 mnist_test.csv\n",
            "-rw-r--r-- 1 0 root 36523880 Jun 15 13:37 mnist_train_small.csv\n",
            "-rwxr-xr-x 1 0 root      930 Jan  1  2000 README.md\n"
          ],
          "name": "stdout"
        }
      ]
    },
    {
      "cell_type": "markdown",
      "metadata": {
        "id": "qgK6BQY5jMYH"
      },
      "source": [
        "# Wholesale_customers_data 분석"
      ]
    },
    {
      "cell_type": "code",
      "metadata": {
        "id": "ldfg8bmUjLeU"
      },
      "source": [
        "import pandas as pd"
      ],
      "execution_count": 10,
      "outputs": []
    },
    {
      "cell_type": "code",
      "metadata": {
        "colab": {
          "base_uri": "https://localhost:8080/",
          "height": 206
        },
        "id": "Wk4HQWkqjgw4",
        "outputId": "c1e34a46-45d3-41a2-a21d-05591c78322a"
      },
      "source": [
        "ws = pd.read_csv('./Wholesale_customers_data.csv')\n",
        "ws.head()"
      ],
      "execution_count": 12,
      "outputs": [
        {
          "output_type": "execute_result",
          "data": {
            "text/html": [
              "<div>\n",
              "<style scoped>\n",
              "    .dataframe tbody tr th:only-of-type {\n",
              "        vertical-align: middle;\n",
              "    }\n",
              "\n",
              "    .dataframe tbody tr th {\n",
              "        vertical-align: top;\n",
              "    }\n",
              "\n",
              "    .dataframe thead th {\n",
              "        text-align: right;\n",
              "    }\n",
              "</style>\n",
              "<table border=\"1\" class=\"dataframe\">\n",
              "  <thead>\n",
              "    <tr style=\"text-align: right;\">\n",
              "      <th></th>\n",
              "      <th>Channel</th>\n",
              "      <th>Region</th>\n",
              "      <th>Fresh</th>\n",
              "      <th>Milk</th>\n",
              "      <th>Grocery</th>\n",
              "      <th>Frozen</th>\n",
              "      <th>Detergents_Paper</th>\n",
              "      <th>Delicassen</th>\n",
              "    </tr>\n",
              "  </thead>\n",
              "  <tbody>\n",
              "    <tr>\n",
              "      <th>0</th>\n",
              "      <td>2</td>\n",
              "      <td>3</td>\n",
              "      <td>12669</td>\n",
              "      <td>9656</td>\n",
              "      <td>7561</td>\n",
              "      <td>214</td>\n",
              "      <td>2674</td>\n",
              "      <td>1338</td>\n",
              "    </tr>\n",
              "    <tr>\n",
              "      <th>1</th>\n",
              "      <td>2</td>\n",
              "      <td>3</td>\n",
              "      <td>7057</td>\n",
              "      <td>9810</td>\n",
              "      <td>9568</td>\n",
              "      <td>1762</td>\n",
              "      <td>3293</td>\n",
              "      <td>1776</td>\n",
              "    </tr>\n",
              "    <tr>\n",
              "      <th>2</th>\n",
              "      <td>2</td>\n",
              "      <td>3</td>\n",
              "      <td>6353</td>\n",
              "      <td>8808</td>\n",
              "      <td>7684</td>\n",
              "      <td>2405</td>\n",
              "      <td>3516</td>\n",
              "      <td>7844</td>\n",
              "    </tr>\n",
              "    <tr>\n",
              "      <th>3</th>\n",
              "      <td>1</td>\n",
              "      <td>3</td>\n",
              "      <td>13265</td>\n",
              "      <td>1196</td>\n",
              "      <td>4221</td>\n",
              "      <td>6404</td>\n",
              "      <td>507</td>\n",
              "      <td>1788</td>\n",
              "    </tr>\n",
              "    <tr>\n",
              "      <th>4</th>\n",
              "      <td>2</td>\n",
              "      <td>3</td>\n",
              "      <td>22615</td>\n",
              "      <td>5410</td>\n",
              "      <td>7198</td>\n",
              "      <td>3915</td>\n",
              "      <td>1777</td>\n",
              "      <td>5185</td>\n",
              "    </tr>\n",
              "  </tbody>\n",
              "</table>\n",
              "</div>"
            ],
            "text/plain": [
              "   Channel  Region  Fresh  Milk  Grocery  Frozen  Detergents_Paper  Delicassen\n",
              "0        2       3  12669  9656     7561     214              2674        1338\n",
              "1        2       3   7057  9810     9568    1762              3293        1776\n",
              "2        2       3   6353  8808     7684    2405              3516        7844\n",
              "3        1       3  13265  1196     4221    6404               507        1788\n",
              "4        2       3  22615  5410     7198    3915              1777        5185"
            ]
          },
          "metadata": {
            "tags": []
          },
          "execution_count": 12
        }
      ]
    }
  ]
}